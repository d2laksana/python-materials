{
 "cells": [
  {
   "cell_type": "markdown",
   "metadata": {},
   "source": [
    "## Tipe Data\n",
    "| Tipe Data | Contoh | Arti |\n",
    "|-|-|-|\n",
    "| Boolean | True atau False | True bernilai 1 atau False bernilai 0 |\n",
    "| String | \"Belajar Python\" | Karakter/kalimat berupa huruf atau angka diapit tanda petik satu (' ') atau petik dua (\" \") |\n",
    "| Integer | 10 atau 1080 | Bilangat bulat |\n",
    "| Float | 3.14 atau 0.128 | Bilangan desimal |\n",
    "| Hexadecimal | 9A atau AF | Bilangan dalam format basis 16: [0-9] dan [A-F] |\n",
    "| List | ['abc', 98, 3.14] | Untaian data, boleh beda tipe data, dan dapat diubah nilainya |\n",
    "| Complex | 1+6j | Bilangan real dan imajiner |\n",
    "| Tuple | ('John', 12, 3.14) | Untaian data, boleh beda tipe data, namun tidak dapat diubah nilainya |\n",
    "| Dictionary | {'nama': 'Wahid', 'npm': '517146'} |  |\n"
   ]
  },
  {
   "cell_type": "code",
   "execution_count": null,
   "metadata": {},
   "outputs": [],
   "source": []
  }
 ],
 "metadata": {
  "language_info": {
   "name": "python"
  },
  "orig_nbformat": 4
 },
 "nbformat": 4,
 "nbformat_minor": 2
}
