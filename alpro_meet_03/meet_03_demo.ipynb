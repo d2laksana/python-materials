{
 "cells": [
  {
   "cell_type": "markdown",
   "metadata": {},
   "source": [
    "## Tipe Data\n",
    "| Tipe Data | Contoh | Arti |\n",
    "|-|-|-|\n",
    "| Boolean | True atau False | True bernilai 1 atau False bernilai 0 |\n",
    "| String | \"Belajar Python\" | Karakter/kalimat berupa huruf atau angka diapit tanda petik satu (' ') atau petik dua (\" \") |\n",
    "| Integer | 10 atau 1080 | Bilangat bulat |\n",
    "| Float | 3.14 atau 0.128 | Bilangan desimal |\n",
    "| Hexadecimal | 9A atau AF | Bilangan dalam format basis 16: [0-9] dan [A-F] |\n",
    "| List | ['abc', 98, 3.14] | Untaian data, boleh beda tipe data, dan dapat diubah nilainya |\n",
    "| Complex | 1+6j | Bilangan real dan imajiner |\n",
    "| Tuple | ('John', 12, 3.14) | Untaian data, boleh beda tipe data, namun tidak dapat diubah nilainya |\n",
    "| Dictionary | {'nama': 'Wahid', 'npm': '517146'} |  |\n"
   ]
  },
  {
   "cell_type": "markdown",
   "metadata": {},
   "source": [
    "## Variabel\n",
    "Penulisan variabel pada Python memiliki beberapa aturan berikut.\n",
    "1. Variabel diawali dengan huruf atau bisa juga `underscore` (_)\n",
    "2. Karakter selanjutnya dapat berupa huruf, angka, atau bisa juga `underscore` (_)\n",
    "3. Bersifat _case-sensitif_, artinya huruf kecil atau huruf besar memiliki maksud yang berbeda\n",
    "\n",
    "Bentuk penulisan variabel dapat berupa _camel case_, _snake case_, _atau pascal case_.\n",
    "1. Camel Case, contoh: namaDepan, tinggiBadan\n",
    "2. Snake Case, contoh: last_name\n",
    "3. Pascal Case, contoh: NamaBelakang, AlamatRumah"
   ]
  },
  {
   "cell_type": "code",
   "execution_count": null,
   "metadata": {},
   "outputs": [],
   "source": [
    "# Tipe Data\n",
    "kalimat = \"Halo, saya belajar Python\"   # String\n",
    "\n",
    "nama = \"Ahmad Ma'ruf\"   # String\n",
    "\n",
    "npm = \"5190411536\"  # String\n",
    "\n",
    "umur = 18   # Integer\n",
    "\n",
    "menikah = False     # Boolean\n",
    "\n",
    "tinggi_badan = 170.65   # FLoat\n",
    "\n",
    "print(\"Pesan :\", kalimat)\n",
    "print(\"Tipe data kalimat :\", type(kalimat))\n",
    "\n",
    "print(\"Nama :\", nama)\n",
    "print(\"Tipe data nama :\", type(nama))\n",
    "\n",
    "print(\"NPM :\", npm)\n",
    "print(\"Tipe data npm :\", type(npm))\n",
    "\n",
    "print(\"Umur :\", umur)\n",
    "print(\"Tipe data umur :\", type(umur))\n",
    "\n",
    "print(\"Menikah :\", menikah)\n",
    "print(\"Tipe data menikah :\", type(menikah))\n",
    "\n",
    "print(\"Tinggi Badan :\", tinggi_badan)\n",
    "print(\"Tipe data tinggi_badan :\", type(tinggi_badan))"
   ]
  },
  {
   "cell_type": "code",
   "execution_count": null,
   "metadata": {},
   "outputs": [],
   "source": [
    "# List\n",
    "data = ['John Doe', 21, 178.5, True]\n",
    "\n",
    "nilai = [76, 80, 90, 65, 100]\n",
    "\n",
    "data[0] = 146\n",
    "\n",
    "print(\"List :\", data)\n",
    "print(\"List :\", type(data))\n",
    "print(\"Nilai :\", nilai)\n",
    "print(\"Data pertama :\", data[0])\n",
    "print(\"Data kedua :\", data[1])\n",
    "print(\"Data ketiga :\", data[2])\n",
    "print(\"Data keempat :\", data[3])"
   ]
  },
  {
   "cell_type": "code",
   "execution_count": null,
   "metadata": {},
   "outputs": [],
   "source": [
    "# Tuple\n",
    "tuple_data = ('John Doe', 27, True)\n",
    "\n",
    "print(\"Tuple data :\", tuple_data)\n",
    "print(\"Tipe data :\", type(tuple_data))\n",
    "print(\"Tuple index 0 :\", tuple_data[0])"
   ]
  },
  {
   "cell_type": "code",
   "execution_count": null,
   "metadata": {},
   "outputs": [],
   "source": [
    "# Dictionary\n",
    "# {key: value}\n",
    "mhs = {'nama': 'John Doe',\n",
    "       'npm': '519200',\n",
    "       'umur': 20,\n",
    "       'alamat': 'Bantul, DIY'}\n",
    "\n",
    "print(\"Data Mahasiswa :\", mhs)\n",
    "print(\"Nama Mahasiswa :\", mhs[\"nama\"])"
   ]
  },
  {
   "cell_type": "code",
   "execution_count": null,
   "metadata": {},
   "outputs": [],
   "source": [
    "# Operator Aritmatika\n",
    "\n",
    "angka_1 = 15\n",
    "angka_2 = 8\n",
    "print(\"Angka pertama = \", angka_1)\n",
    "print(\"Angka kedua = \", angka_2, end='\\n\\n')\n",
    "\n",
    "hasil_jumlah = angka_1 + angka_2\n",
    "print(\"Hasil jumlah =\", hasil_jumlah)\n",
    "\n",
    "hasil_kurang = angka_1 - angka_2\n",
    "print(\"Hasil kurang =\", hasil_kurang)\n",
    "\n",
    "hasil_kali = angka_1 * angka_2\n",
    "print(\"Hasil kali =\", hasil_kali)\n",
    "\n",
    "hasil_bagi = angka_1 / angka_2\n",
    "print(\"Hasil bagi =\", hasil_bagi)\n",
    "\n",
    "hasil_bagi_bulat = angka_1 // angka_2\n",
    "print(\"Hasil bagi bulat =\", hasil_bagi_bulat)\n",
    "\n",
    "# Pangkat\n",
    "hasil_pangkat = angka_1 ** 4\n",
    "print(\"Hasil pangkat dua =\", hasil_pangkat)\n",
    "\n",
    "# Sisa bagi atau modulo\n",
    "hasil_sisa_bagi = angka_1 % angka_2\n",
    "print(\"Hasil sisa bagi =\", hasil_sisa_bagi)"
   ]
  },
  {
   "cell_type": "code",
   "execution_count": null,
   "metadata": {},
   "outputs": [],
   "source": [
    "# Operator Perbandingan\n",
    "\n",
    "bil_1 = 4\n",
    "bil_2 = 7\n",
    "bil_3 = 4\n",
    "\n",
    "print(\"Bil 1 = \", bil_1)\n",
    "print(\"Bil 2 = \", bil_2, end='\\n\\n')\n",
    "\n",
    "result = bil_1 > bil_2\n",
    "print(bil_1, \"lebih besar dari\", bil_2, \"=\", result)\n",
    "\n",
    "result = bil_1 >= bil_3\n",
    "print(bil_1, \"lebih besar sama dengan\", bil_3, \"=\", result)\n",
    "\n",
    "result = bil_1 < bil_2\n",
    "print(bil_1, \"lebih kecil dari\", bil_2, \"=\", result)\n",
    "\n",
    "result = bil_1 <= bil_2\n",
    "print(bil_1, \"lebih kecil sama dengan\", bil_2, \"=\", result)\n",
    "\n",
    "result = bil_1 == bil_3\n",
    "print(bil_1, \"sama dengan\", bil_3, \"=\", result)\n",
    "\n",
    "result = bil_1 != bil_3\n",
    "print(bil_1, \"tidak sama dengan\", bil_3, \"=\", result)"
   ]
  },
  {
   "cell_type": "code",
   "execution_count": null,
   "metadata": {},
   "outputs": [],
   "source": [
    "# Operator Assignment\n",
    "\n",
    "bilangan = 16\n",
    "pangkat = 3\n",
    "result = 2\n",
    "\n",
    "print(\"Bilangan =\", bilangan)\n",
    "print(\"Hasil awal =\", result, end='\\n\\n')\n",
    "\n",
    "# result = result + bilangan\n",
    "result += bilangan\n",
    "print(\"Hasil jumlah =\", result, end='\\n\\n')\n",
    "\n",
    "# result = result ** bilangan\n",
    "result **= pangkat\n",
    "print(\"Hasil pangkat =\", result, end='\\n\\n')"
   ]
  },
  {
   "cell_type": "code",
   "execution_count": null,
   "metadata": {},
   "outputs": [],
   "source": [
    "# Operator Logika\n",
    "\n",
    "x = True\n",
    "y = False\n",
    "z = True\n",
    "\n",
    "# and -> Salah satu False, maka hasilnya False\n",
    "# or -> Salah satu True, maka hasilnya True\n",
    "\n",
    "print(\"x and y = \", x and y)\n",
    "print(\"x or y = \", x or y)\n",
    "print(\"x or z = \", x or z)\n",
    "print(\"not y =\", not(y))\n",
    "print(\"x and y and z = \", x and y and z)\n",
    "print(\"x and y or y = \", x and y or y)"
   ]
  },
  {
   "cell_type": "code",
   "execution_count": null,
   "metadata": {},
   "outputs": [],
   "source": [
    "\"\"\"\n",
    "Menghitung luas persegi panjang\n",
    "\"\"\"\n",
    "# Deklarasi variabel\n",
    "p = 0\n",
    "l = 0\n",
    "luas = 0\n",
    "\n",
    "# Input atau assignment\n",
    "# Nilai merupakan input dari user\n",
    "p = int(input(\"Input panjang : \"))\n",
    "l = int(input(\"Input lebar : \"))\n",
    "\n",
    "# Hitung luas\n",
    "luas = p * l\n",
    "\n",
    "# Cetak\n",
    "print(\"Pangjang =\", p)\n",
    "print(\"Lebar =\", l)\n",
    "print(\"Luas Persegi Panjang =\", luas)"
   ]
  }
 ],
 "metadata": {
  "interpreter": {
   "hash": "ec809a9746a9c957d52aaa4a75b4d524701554d3cddfc8f1b613def236b21844"
  },
  "kernelspec": {
   "display_name": "Python 3.8.10 64-bit",
   "name": "python3"
  },
  "language_info": {
   "codemirror_mode": {
    "name": "ipython",
    "version": 3
   },
   "file_extension": ".py",
   "mimetype": "text/x-python",
   "name": "python",
   "nbconvert_exporter": "python",
   "pygments_lexer": "ipython3",
   "version": "3.8.10"
  },
  "orig_nbformat": 4
 },
 "nbformat": 4,
 "nbformat_minor": 2
}
