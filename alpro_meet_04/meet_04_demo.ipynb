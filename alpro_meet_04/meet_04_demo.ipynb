{
 "cells": [
  {
   "cell_type": "markdown",
   "metadata": {},
   "source": [
    "## Function\n",
    "Fungsi adalah blok kode terorganisir dan dapat digunakan kembali yang digunakan untuk melakukan sebuah tindakan/action.\n",
    "\n",
    "## Pembuatan Function\n",
    "Berikut adalah aturan sederhana untuk mendefinisikan fungsi dengan Python.\n",
    "\n",
    "* Fungsi blok dimulai dengan `def` kata kunci diikuti oleh nama fungsi dan tanda kurung (`()`).\n",
    "* Setiap parameter masukan atau argumen harus ditempatkan di dalam tanda kurung ini. Anda juga dapat menentukan parameter di dalam tanda kurung ini.\n",
    "* Blok kode dalam setiap fungsi dimulai dengan titik dua (:) dan indentasi.\n",
    "* Pernyataan kembali [ekspresi] keluar dari sebuah fungsi, secara opsional menyampaikan kembali ekspresi ke pemanggil. Pernyataan pengembalian tanpa argumen sama dengan `return None`."
   ]
  },
  {
   "cell_type": "code",
   "execution_count": 5,
   "metadata": {},
   "outputs": [
    {
     "name": "stdout",
     "output_type": "stream",
     "text": [
      "Hello from a function\n"
     ]
    }
   ],
   "source": [
    "# Function tanpa parameter\n",
    "def my_function():\n",
    "    print(\"Hello from a function\")\n",
    "\n",
    "\n",
    "# Memanggil fungsi\n",
    "my_function()"
   ]
  },
  {
   "cell_type": "code",
   "execution_count": 6,
   "metadata": {},
   "outputs": [
    {
     "name": "stdout",
     "output_type": "stream",
     "text": [
      "Emil Refsnes\n",
      "Tobias Refsnes\n",
      "Linus Refsnes\n"
     ]
    }
   ],
   "source": [
    "# Function dengan parameter\n",
    "def my_function(fname):\n",
    "    print(fname + \" Refsnes\")\n",
    "\n",
    "\n",
    "my_function(\"Emil\")\n",
    "my_function(\"Tobias\")\n",
    "my_function(\"Linus\")"
   ]
  },
  {
   "cell_type": "code",
   "execution_count": 7,
   "metadata": {},
   "outputs": [
    {
     "name": "stdout",
     "output_type": "stream",
     "text": [
      "Emil Refsnes\n"
     ]
    }
   ],
   "source": [
    "# Function dengan lebih dari satu parameter\n",
    "def my_function(fname, lname):\n",
    "    print(fname + \" \" + lname)\n",
    "\n",
    "\n",
    "my_function(\"Emil\", \"Refsnes\")"
   ]
  },
  {
   "cell_type": "code",
   "execution_count": 8,
   "metadata": {},
   "outputs": [
    {
     "name": "stdout",
     "output_type": "stream",
     "text": [
      "The youngest child is Linus\n"
     ]
    }
   ],
   "source": [
    "# Jika jumlah parameter tidak diketahui, \n",
    "# Tambahkan * sebelum nama parameter\n",
    "def my_function(*kids):\n",
    "    print(\"The youngest child is \" + kids[2])\n",
    "\n",
    "\n",
    "my_function(\"Emil\", \"Tobias\", \"Linus\")"
   ]
  },
  {
   "cell_type": "code",
   "execution_count": 9,
   "metadata": {},
   "outputs": [
    {
     "name": "stdout",
     "output_type": "stream",
     "text": [
      "The youngest child is Linus\n"
     ]
    }
   ],
   "source": [
    "# Function juga memungkinkan paramter dengan key = value\n",
    "# Urutan paramater tidak berpengaruh\n",
    "\n",
    "def my_function(child3, child2, child1):\n",
    "    print(\"The youngest child is \" + child3)\n",
    "\n",
    "\n",
    "my_function(child1=\"Emil\", child2=\"Tobias\", child3=\"Linus\")"
   ]
  },
  {
   "cell_type": "code",
   "execution_count": 10,
   "metadata": {},
   "outputs": [
    {
     "name": "stdout",
     "output_type": "stream",
     "text": [
      "His last name is Refsnes\n"
     ]
    }
   ],
   "source": [
    "# Jika jumlah keyword parameter tidak diketahui, \n",
    "# Tambahkan double bintang (**) sebelum nama parameter\n",
    "def my_function(**kid):\n",
    "    print(\"His last name is \" + kid[\"lname\"])\n",
    "\n",
    "\n",
    "my_function(fname=\"Tobias\", lname=\"Refsnes\")"
   ]
  },
  {
   "cell_type": "code",
   "execution_count": 11,
   "metadata": {},
   "outputs": [
    {
     "name": "stdout",
     "output_type": "stream",
     "text": [
      "I am from Sweden\n",
      "I am from India\n",
      "I am from Norway\n",
      "I am from Brazil\n"
     ]
    }
   ],
   "source": [
    "# Jika pemanggilan function tanpa parameter yang dikirim, \n",
    "# Function akan menggunakan nilai default\n",
    "\n",
    "def my_function(country=\"Norway\"):\n",
    "    print(\"I am from \" + country)\n",
    "\n",
    "\n",
    "my_function(\"Sweden\")\n",
    "my_function(\"India\")\n",
    "my_function()\n",
    "my_function(\"Brazil\")"
   ]
  },
  {
   "cell_type": "code",
   "execution_count": 12,
   "metadata": {},
   "outputs": [
    {
     "name": "stdout",
     "output_type": "stream",
     "text": [
      "apple\n",
      "banana\n",
      "cherry\n"
     ]
    }
   ],
   "source": [
    "# You can send any data types of argument to a function\n",
    "# (string, number, list, dictionary etc.),\n",
    "# and it will be treated as the same data type inside the function\n",
    "\n",
    "def my_function(food):\n",
    "    for x in food:\n",
    "        print(x)\n",
    "\n",
    "\n",
    "fruits = [\"apple\", \"banana\", \"cherry\"]\n",
    "\n",
    "my_function(fruits)"
   ]
  },
  {
   "cell_type": "code",
   "execution_count": 13,
   "metadata": {},
   "outputs": [
    {
     "name": "stdout",
     "output_type": "stream",
     "text": [
      "15\n",
      "25\n",
      "45\n"
     ]
    }
   ],
   "source": [
    "# To let a function return a value, use the return statement:\n",
    "\n",
    "def my_function(x):\n",
    "    return 5 * x\n",
    "\n",
    "\n",
    "print(my_function(3))\n",
    "print(my_function(5))\n",
    "print(my_function(9))"
   ]
  },
  {
   "cell_type": "code",
   "execution_count": 14,
   "metadata": {},
   "outputs": [],
   "source": [
    "# function definitions cannot be empty,\n",
    "# but if you for some reason have a function definition with no content,\n",
    "# put in the pass statement to avoid getting an error.\n",
    "\n",
    "def myfunction():\n",
    "    pass\n"
   ]
  },
  {
   "cell_type": "code",
   "execution_count": 15,
   "metadata": {},
   "outputs": [
    {
     "name": "stdout",
     "output_type": "stream",
     "text": [
      "Hello Tobias\n"
     ]
    }
   ],
   "source": [
    "# subprograms\n",
    "# function - it returns something\n",
    "def getName():\n",
    "    uName = input(\"Please enter your name: \")\n",
    "    return uName\n",
    "\n",
    "# subroutine - it doesn't need to return anything\n",
    "# passing in the 'userName' parameter, as it will be used in this subroutine\n",
    "\n",
    "\n",
    "def printMsg(userName):\n",
    "    print(\"Hello\", userName)\n",
    "\n",
    "\n",
    "userName = getName()\n",
    "# calling the function and adding an argument in the brackets\n",
    "printMsg(userName)"
   ]
  },
  {
   "cell_type": "code",
   "execution_count": 16,
   "metadata": {},
   "outputs": [
    {
     "name": "stdout",
     "output_type": "stream",
     "text": [
      "10\n"
     ]
    }
   ],
   "source": [
    "# Create a global variable.\n",
    "my_value = 10\n",
    "\n",
    "\n",
    "# The show_value function prints\n",
    "# the value of the global variable.\n",
    "def show_value():\n",
    "    print(my_value)\n",
    "\n",
    "\n",
    "# Call the show_value function.\n",
    "show_value()"
   ]
  },
  {
   "cell_type": "code",
   "execution_count": 17,
   "metadata": {},
   "outputs": [
    {
     "name": "stdout",
     "output_type": "stream",
     "text": [
      "The number you entered is 17\n"
     ]
    }
   ],
   "source": [
    "# To assign values to global variables you have to use the keyword global\n",
    "\n",
    "# Create a global variable.\n",
    "number = 0\n",
    "\n",
    "\n",
    "def main():\n",
    "    global number\n",
    "    number = int(input('Enter a number: '))\n",
    "    show_number()\n",
    "\n",
    "\n",
    "def show_number():\n",
    "    print('The number you entered is', number)\n",
    "\n",
    "\n",
    "# Call the main function.\n",
    "main()"
   ]
  },
  {
   "cell_type": "code",
   "execution_count": 18,
   "metadata": {},
   "outputs": [
    {
     "name": "stdout",
     "output_type": "stream",
     "text": [
      "The value is 99\n",
      "I am changing the value.\n",
      "Now the value is 0\n",
      "Back in main the value is 99\n"
     ]
    }
   ],
   "source": [
    "# This program demonstrates what happens when you\n",
    "# change the value of a parameter.\n",
    "\n",
    "def main():\n",
    "    value = 99\n",
    "    print('The value is', value)\n",
    "    change_me(value)\n",
    "    print('Back in main the value is', value)\n",
    "\n",
    "\n",
    "def change_me(arg):\n",
    "    print('I am changing the value.')\n",
    "    arg = 0\n",
    "    print('Now the value is', arg)\n",
    "\n",
    "\n",
    "# Call the main  function.\n",
    "main()"
   ]
  }
 ],
 "metadata": {
  "interpreter": {
   "hash": "ec809a9746a9c957d52aaa4a75b4d524701554d3cddfc8f1b613def236b21844"
  },
  "kernelspec": {
   "display_name": "Python 3.8.10 64-bit",
   "name": "python3"
  },
  "language_info": {
   "codemirror_mode": {
    "name": "ipython",
    "version": 3
   },
   "file_extension": ".py",
   "mimetype": "text/x-python",
   "name": "python",
   "nbconvert_exporter": "python",
   "pygments_lexer": "ipython3",
   "version": "3.8.10"
  },
  "orig_nbformat": 4
 },
 "nbformat": 4,
 "nbformat_minor": 2
}
